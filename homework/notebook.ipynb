{
 "cells": [
  {
   "cell_type": "code",
   "execution_count": 1,
   "metadata": {},
   "outputs": [],
   "source": [
    "#\n",
    "# Preparacion\n",
    "#\n",
    "import matplotlib  #  type: ignore\n",
    "import matplotlib.pyplot as plt  #  type: ignore\n",
    "import pandas as pd  #  type: ignore"
   ]
  },
  {
   "cell_type": "code",
   "execution_count": null,
   "metadata": {},
   "outputs": [],
   "source": [
    "#\n",
    "\"\"\"\n",
    "CHAT:\n",
    "Cargue los datos de las tablas \"drivers.csv\" y \"timesheet.csv\" to ChatGPT.\n",
    "\"\"\"\n",
    "drivers = pd.read_csv(\n",
    "    \"../files/input/drivers.csv\",\n",
    "    sep=\",\",\n",
    "    thousands=None,\n",
    "    decimal=\".\",\n",
    ")\n",
    "timesheet = pd.read_csv(\n",
    "    \"../files/input/timesheet.csv\",\n",
    "    sep=\",\",\n",
    "    thousands=None,\n",
    "    decimal=\".\",\n",
    ")\n",
    "\n",
    "print(\"Tabla drivers\")\n",
    "display(drivers.head())\n",
    "print()\n",
    "print(\"Tabla timesheet\")\n",
    "display(timesheet.head())\n"
   ]
  },
  {
   "cell_type": "code",
   "execution_count": null,
   "metadata": {},
   "outputs": [],
   "source": [
    "#\n",
    "\"\"\"\n",
    "PROMPT:\n",
    "Calcule el promedio de las columnas \"hours-logged\" y \"miles-logged\" en la tabla \"timesheet\", agrupando los resultados por cada conductor (driverId).\n",
    "\"\"\"\n",
    "mean_timesheet = timesheet.groupby(\"driverId\").mean()\n",
    "mean_timesheet.pop(\"week\")\n",
    "mean_timesheet.head()"
   ]
  },
  {
   "cell_type": "code",
   "execution_count": null,
   "metadata": {},
   "outputs": [],
   "source": [
    "\n",
    "\"\"\"\n",
    "PROMPT:\n",
    "Cree una tabla llamada \"timesheet_with_means\" basada en la tabla \"timesheet\", agregando una columna con el promedio de \"hours-logged\" para cada conductor (driverId).\n",
    "\"\"\"\n",
    "mean_hours_logged_by_driver = timesheet.groupby(\"driverId\")[\"hours-logged\"].transform(\n",
    "    \"mean\"\n",
    ")\n",
    "timesheet_with_means = timesheet.copy()\n",
    "timesheet_with_means[\"mean_hours-logged\"] = mean_hours_logged_by_driver\n",
    "timesheet_with_means.head()"
   ]
  },
  {
   "cell_type": "code",
   "execution_count": null,
   "metadata": {},
   "outputs": [],
   "source": [
    "\n",
    "\"\"\"\n",
    "PROMPT:\n",
    "Cree una tabla llamada \"timesheet_below\" a partir de \"timesheet_with_means\", filtrando los registros donde \"hours-logged\" sea menor que \"mean_hours-logged\".\n",
    "\"\"\"\n",
    "timesheet_below = timesheet_with_means[\n",
    "    timesheet_with_means[\"hours-logged\"] < timesheet_with_means[\"mean_hours-logged\"]\n",
    "]\n",
    "display(timesheet_below.head(), timesheet_below.tail())"
   ]
  },
  {
   "cell_type": "code",
   "execution_count": null,
   "metadata": {},
   "outputs": [],
   "source": [
    "\n",
    "\"\"\"\n",
    "PROMPT:\n",
    "Cree una tabla llamada \"sum_timesheet\" agrupando la tabla \"timesheet\" por driverId y calculando la suma de las columnas \"hours-logged\" y \"miles-logged\".\n",
    "\"\"\"\n",
    "sum_timesheet = timesheet.groupby(\"driverId\").sum()\n",
    "sum_timesheet.head(10)"
   ]
  },
  {
   "cell_type": "code",
   "execution_count": null,
   "metadata": {},
   "outputs": [],
   "source": [
    "\n",
    "\"\"\"\n",
    "PROMPT:\n",
    "Crea una tabla llamada \"min_max_timesheet\" a partir de la tabla \"timesheet\", agrupando los datos por driverId y calculando el valor mínimo y máximo de la columna \"hours-logged\".\n",
    "\"\"\"\n",
    "timesheet.groupby(\"driverId\")[\"hours-logged\"].agg([\"min\", \"max\"])\n"
   ]
  },
  {
   "cell_type": "code",
   "execution_count": null,
   "metadata": {},
   "outputs": [],
   "source": [
    "\"\"\"\n",
    "PROMPT:\n",
    "Crea una tabla llamada \"summary\" combinando las tablas \"sum_timesheet\" y \"drivers\" mediante la clave driverId. De la tabla \"drivers\", incluye únicamente las columnas \"driverId\" y \"name\".\n",
    "\"\"\"\n",
    "\n",
    "# Unión de las tablas usando join\n",
    "summary = pd.merge(\n",
    "    sum_timesheet,\n",
    "    drivers[[\"driverId\", \"name\"]],\n",
    "    on=\"driverId\",\n",
    ")\n",
    "summary"
   ]
  },
  {
   "cell_type": "code",
   "execution_count": 10,
   "metadata": {},
   "outputs": [],
   "source": [
    "\"\"\"PROMPT\n",
    "Guarda la tabla \"summary\" en un archivo CSV con el nombre \"summary.csv\" para descargar.\n",
    "\"\"\"\n",
    "# Almacenamiento de los resultados\n",
    "import os\n",
    "\n",
    "if not os.path.exists(\"../files/output\"):\n",
    "    os.makedirs(\"../files/output\")\n",
    "\n",
    "summary.to_csv(\n",
    "    \"../files/output/summary.csv\",\n",
    "    sep=\",\",\n",
    "    header=True,\n",
    "    index=False,\n",
    ")\n",
    "\n",
    "\n"
   ]
  },
  {
   "cell_type": "code",
   "execution_count": null,
   "metadata": {},
   "outputs": [],
   "source": [
    "\n",
    "\"\"\"\n",
    "PROMPT:\n",
    "Crea una tabla llamada \"top10\" con los 10 conductores que tienen la mayor cantidad de millas registradas, ordenando los datos en forma descendente por la columna \"miles-logged\".\n",
    "\"\"\"\n",
    "# Ordenamiento por la cantidad de millas registradas\n",
    "top10 = summary.sort_values(by=\"miles-logged\", ascending=False).head(10)\n",
    "top10"
   ]
  },
  {
   "cell_type": "code",
   "execution_count": null,
   "metadata": {},
   "outputs": [],
   "source": [
    "\"\"\"\n",
    "\n",
    "PROMPT:\n",
    "Crea un gráfico de barras horizontales utilizando los datos de la tabla \"top10\", donde el eje y represente los nombres de los conductores y el eje x la cantidad de millas registradas. Asegúrate de que los conductores con más millas estén en la parte superior del gráfico.\n",
    "\"\"\"\n",
    "\n",
    "import os\n",
    "\n",
    "top10 = top10.set_index(\"name\")\n",
    "top10[\"miles-logged\"].plot.barh(color=\"tab:orange\", alpha=0.6)\n",
    "\n",
    "plt.gca().invert_yaxis()\n",
    "\n",
    "plt.gca().get_xaxis().set_major_formatter(\n",
    "    matplotlib.ticker.FuncFormatter(lambda x, p: format(int(x), \",\"))\n",
    ")\n",
    "\n",
    "plt.xticks(rotation=90)\n",
    "\n",
    "plt.gca().spines[\"left\"].set_color(\"lightgray\")\n",
    "plt.gca().spines[\"bottom\"].set_color(\"gray\")\n",
    "plt.gca().spines[\"top\"].set_visible(False)\n",
    "plt.gca().spines[\"right\"].set_visible(False)\n",
    "\n",
    "if not os.path.exists(\"../files/plots\"):\n",
    "    os.makedirs(\"../files/plots\")\n",
    "\n",
    "plt.savefig(\"../files/plots/top10_drivers.png\", bbox_inches=\"tight\")\n"
   ]
  }
 ],
 "metadata": {
  "kernelspec": {
   "display_name": ".venv",
   "language": "python",
   "name": "python3"
  },
  "language_info": {
   "codemirror_mode": {
    "name": "ipython",
    "version": 3
   },
   "file_extension": ".py",
   "mimetype": "text/x-python",
   "name": "python",
   "nbconvert_exporter": "python",
   "pygments_lexer": "ipython3",
   "version": "3.12.7"
  }
 },
 "nbformat": 4,
 "nbformat_minor": 2
}
